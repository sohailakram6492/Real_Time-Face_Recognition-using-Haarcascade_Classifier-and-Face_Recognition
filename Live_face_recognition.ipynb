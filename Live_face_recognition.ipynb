{
 "cells": [
  {
   "cell_type": "markdown",
   "metadata": {},
   "source": [
    "## Real-time Face_Recognition using Webcame \n",
    "\n",
    "using face-recognition 1.3.0 and Harrcascade_Classifier"
   ]
  },
  {
   "cell_type": "markdown",
   "metadata": {},
   "source": [
    "Install face_recognition library using this commad \n",
    "\"! pip install face-recognition \"\n",
    "\n",
    "may you can follow this link for further details: \" https://pypi.org/project/face-recognition/ \"\n",
    "\n",
    "Importing required libraries"
   ]
  },
  {
   "cell_type": "code",
   "execution_count": 23,
   "metadata": {},
   "outputs": [],
   "source": [
    "import numpy as np\n",
    "import cv2,os\n",
    "import face_recognition"
   ]
  },
  {
   "cell_type": "markdown",
   "metadata": {},
   "source": [
    "Importing haarcascade_classifier, you have to download it first and give its exact location "
   ]
  },
  {
   "cell_type": "code",
   "execution_count": 24,
   "metadata": {},
   "outputs": [],
   "source": [
    "face_cascade = cv2.CascadeClassifier('./model/haarcascade_frontalface_default.xml')"
   ]
  },
  {
   "cell_type": "markdown",
   "metadata": {},
   "source": [
    "This funcation is comparing face with the images placed in Images folder by using different funcations of face_recognition "
   ]
  },
  {
   "cell_type": "code",
   "execution_count": 25,
   "metadata": {},
   "outputs": [],
   "source": [
    "def face_rec(image1):\n",
    "    unknown_image = face_recognition.load_image_file(image1)\n",
    "    if not face_recognition.face_encodings(unknown_image):\n",
    "        print(f\"Unable to detect face try again \")\n",
    "        return False\n",
    "    unknown_encoding = face_recognition.face_encodings(unknown_image)[0]\n",
    "\n",
    "    for i in os.listdir('./Images/'):\n",
    "            \n",
    "        img_path = f\"./Images/{i}\"\n",
    "        \n",
    "        known_image = face_recognition.load_image_file(img_path)\n",
    "        if not face_recognition.face_encodings(known_image):\n",
    "            print(f\"Unable to detect face from db_images\")\n",
    "            continue\n",
    "        biden_encoding = face_recognition.face_encodings(known_image)[0]\n",
    "        results = face_recognition.compare_faces(\n",
    "            [biden_encoding], unknown_encoding, tolerance=0.5)\n",
    "\n",
    "        print(img_path)\n",
    "        \n",
    "        if results[0] == True:\n",
    "            name= i.split(\"\\\\\")[-1]\n",
    "            f_name= name.split(\".\")[0]\n",
    "            print(f'WELLCOME You are {f_name}')\n",
    "            break \n",
    "    return results"
   ]
  },
  {
   "cell_type": "markdown",
   "metadata": {},
   "source": [
    "Capturing video from Webcam "
   ]
  },
  {
   "cell_type": "code",
   "execution_count": 26,
   "metadata": {},
   "outputs": [],
   "source": [
    "cap = cv2.VideoCapture(0)"
   ]
  },
  {
   "cell_type": "markdown",
   "metadata": {},
   "source": [
    "Detecting face from frames using haarcascade classifier, Croping and saving the image of face in testing_images folder"
   ]
  },
  {
   "cell_type": "code",
   "execution_count": 27,
   "metadata": {},
   "outputs": [
    {
     "name": "stdout",
     "output_type": "stream",
     "text": [
      "[40]\n"
     ]
    }
   ],
   "source": [
    "\n",
    "face_cascade = cv2.CascadeClassifier('./model/haarcascade_frontalface_default.xml')\n",
    "\n",
    "while True:\n",
    "    ret, frame = cap.read()\n",
    "    if ret == False:\n",
    "        break\n",
    "    image = frame.copy()\n",
    "    # step-1: Convert image into gray scale\n",
    "    gray = cv2.cvtColor(image,cv2.COLOR_BGR2GRAY)\n",
    "    # step-2: apply gray scale image to cascasde classifier\n",
    "    box,detections = face_cascade.detectMultiScale2(gray,minNeighbors=8)\n",
    "    # step-3: drawing bounding box\n",
    "    image1 = \"./testing_images/image1.jpg\"\n",
    "    if len(detections) > 0 and detections[0] >= 40:\n",
    "        for x,y,w,h in box:\n",
    "            cv2.rectangle(image,(x,y),(x+w,y+h),(0,255,0),3)\n",
    "            cv2.imwrite(image1, image)\n",
    "        print(detections)   \n",
    "        break\n",
    "        \n",
    "    img_detect = image\n",
    "    \n",
    "    cv2.imshow('Real Time Face Detection',img_detect)\n",
    "    # print(img_detect)       \n",
    "    if cv2.waitKey(1) != -1:\n",
    "        break\n",
    "        \n",
    "cap.release()\n",
    "cv2.destroyAllWindows()\n"
   ]
  },
  {
   "cell_type": "markdown",
   "metadata": {},
   "source": [
    "If there is a image in testing_images folder then call face_rec funcation and if the face get detected it will show wellcome"
   ]
  },
  {
   "cell_type": "code",
   "execution_count": 28,
   "metadata": {},
   "outputs": [
    {
     "name": "stdout",
     "output_type": "stream",
     "text": [
      "./Images/Babar.jpg\n",
      "./Images/Hafiz Ahmad.jpg\n",
      "./Images/Naveed.jpg\n",
      "./Images/Nazeer.JPG\n",
      "./Images/saleem.jpg\n",
      "./Images/Sohail.jpg\n",
      "WELLCOME You are Sohail\n"
     ]
    }
   ],
   "source": [
    "list_ = os.listdir(\"./testing_images/\")\n",
    "if list_:\n",
    "    face_rec(image1)"
   ]
  }
 ],
 "metadata": {
  "interpreter": {
   "hash": "11e4f431d9f4ca25019afdd815f68cb7830df17d42868ab8fdcc67f96c0b156b"
  },
  "kernelspec": {
   "display_name": "Python 3.7.0 64-bit",
   "language": "python",
   "name": "python3"
  },
  "language_info": {
   "codemirror_mode": {
    "name": "ipython",
    "version": 3
   },
   "file_extension": ".py",
   "mimetype": "text/x-python",
   "name": "python",
   "nbconvert_exporter": "python",
   "pygments_lexer": "ipython3",
   "version": "3.7.0"
  },
  "orig_nbformat": 4
 },
 "nbformat": 4,
 "nbformat_minor": 2
}
